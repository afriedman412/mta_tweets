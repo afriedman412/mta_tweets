{
 "cells": [
  {
   "cell_type": "code",
   "execution_count": 1,
   "metadata": {
    "collapsed": true
   },
   "outputs": [],
   "source": [
    "import pandas as pd\n",
    "import numpy as np\n",
    "import os\n",
    "import re\n",
    "import datetime as dt\n",
    "from sklearn.feature_extraction.text import CountVectorizer, TfidfVectorizer\n",
    "import nltk\n",
    "from nltk.stem.porter import PorterStemmer\n",
    "from nltk.stem import WordNetLemmatizer\n",
    "from textblob import TextBlob\n",
    "\n",
    "import calendar\n",
    "\n",
    "from IPython.display import clear_output\n",
    "import matplotlib.pyplot as plt\n",
    "import matplotlib.dates as pld\n",
    "import seaborn as sns\n",
    "%matplotlib inline"
   ]
  },
  {
   "cell_type": "code",
   "execution_count": 2,
   "metadata": {
    "collapsed": true
   },
   "outputs": [],
   "source": [
    "df = pd.read_csv('more_tweets_plus.csv')"
   ]
  },
  {
   "cell_type": "code",
   "execution_count": 3,
   "metadata": {
    "collapsed": true
   },
   "outputs": [],
   "source": [
    "df2 = df[df.tweet_clean.notnull()]"
   ]
  },
  {
   "cell_type": "code",
   "execution_count": 4,
   "metadata": {},
   "outputs": [
    {
     "name": "stderr",
     "output_type": "stream",
     "text": [
      "/anaconda3/lib/python3.6/site-packages/ipykernel/__main__.py:1: SettingWithCopyWarning: \n",
      "A value is trying to be set on a copy of a slice from a DataFrame.\n",
      "Try using .loc[row_indexer,col_indexer] = value instead\n",
      "\n",
      "See the caveats in the documentation: http://pandas.pydata.org/pandas-docs/stable/indexing.html#indexing-view-versus-copy\n",
      "  if __name__ == '__main__':\n"
     ]
    }
   ],
   "source": [
    "df2['date'] = pd.to_datetime(df2['date'])"
   ]
  },
  {
   "cell_type": "code",
   "execution_count": 5,
   "metadata": {},
   "outputs": [
    {
     "name": "stderr",
     "output_type": "stream",
     "text": [
      "/anaconda3/lib/python3.6/site-packages/ipykernel/__main__.py:1: SettingWithCopyWarning: \n",
      "A value is trying to be set on a copy of a slice from a DataFrame.\n",
      "Try using .loc[row_indexer,col_indexer] = value instead\n",
      "\n",
      "See the caveats in the documentation: http://pandas.pydata.org/pandas-docs/stable/indexing.html#indexing-view-versus-copy\n",
      "  if __name__ == '__main__':\n"
     ]
    }
   ],
   "source": [
    "df2['day'] = df2.date.dt.to_period('D').map(lambda x: x.strftime('%Y-%m-%d'))"
   ]
  },
  {
   "cell_type": "code",
   "execution_count": 6,
   "metadata": {
    "collapsed": true
   },
   "outputs": [],
   "source": [
    "df2i = df2.set_index('day')"
   ]
  },
  {
   "cell_type": "code",
   "execution_count": 7,
   "metadata": {},
   "outputs": [
    {
     "data": {
      "text/plain": [
       "'2018-08-01'"
      ]
     },
     "execution_count": 7,
     "metadata": {},
     "output_type": "execute_result"
    }
   ],
   "source": [
    "df2i.index.max()"
   ]
  },
  {
   "cell_type": "code",
   "execution_count": 8,
   "metadata": {
    "collapsed": true
   },
   "outputs": [],
   "source": [
    "cv = CountVectorizer(stop_words='english')\n",
    "v_tweets = cv.fit_transform(df2)\n",
    "gram1 = pd.DataFrame(v_tweets.todense(), columns=cv.get_feature_names()).sum().sort_values(ascending=False)"
   ]
  },
  {
   "cell_type": "code",
   "execution_count": 9,
   "metadata": {},
   "outputs": [
    {
     "data": {
      "text/plain": [
       "574"
      ]
     },
     "execution_count": 9,
     "metadata": {},
     "output_type": "execute_result"
    }
   ],
   "source": [
    "df2.date.dt.to_period('D').nunique()"
   ]
  },
  {
   "cell_type": "code",
   "execution_count": 10,
   "metadata": {
    "collapsed": true
   },
   "outputs": [],
   "source": [
    "stops = nltk.corpus.stopwords.words('english')\n",
    "train_words = ['train', 'trains', 'st', 'av', 'http', 'custhelp']\n",
    "stops = stops+train_words"
   ]
  },
  {
   "cell_type": "code",
   "execution_count": 11,
   "metadata": {
    "collapsed": true
   },
   "outputs": [],
   "source": [
    "def lemma(t, lem=None):\n",
    "    if (lem is None) or (type(lem) != WordNetLemmatizer):\n",
    "        lem = WordNetLemmatizer()\n",
    "    t_lem = []\n",
    "    for w in t.split():\n",
    "        t_lem.append(lem.lemmatize(w))\n",
    "    return ' '.join(t_lem)"
   ]
  },
  {
   "cell_type": "code",
   "execution_count": 12,
   "metadata": {
    "collapsed": true
   },
   "outputs": [],
   "source": [
    "def stem(t, stem=None):\n",
    "    if (stem is None):\n",
    "        stem = PorterStemmer()\n",
    "    t_stem = []\n",
    "    for w in t.split():\n",
    "        t_stem.append(stem.stem(w))\n",
    "    return ' '.join(t_stem)"
   ]
  },
  {
   "cell_type": "code",
   "execution_count": 13,
   "metadata": {
    "collapsed": true
   },
   "outputs": [],
   "source": [
    "def span_vec_day(day, data=df2, n_grams=(1,1), pro='stem', norm=False, binary=False):\n",
    "    tweets = data.set_index('day').loc[day]['tweet_clean']\n",
    "    if pro == 'stem':\n",
    "        t_pro = tweets.map(stem)\n",
    "    elif pro == 'lem':\n",
    "        t_pro = tweets.map(lemma)\n",
    "    else:\n",
    "        t_pro = tweets\n",
    "    cv = CountVectorizer(ngram_range=n_grams, stop_words=stops, binary=binary)\n",
    "    v_tweets = cv.fit_transform(t_pro)\n",
    "    gram = pd.DataFrame(\n",
    "        pd.DataFrame(v_tweets.todense(),\n",
    "                                    columns=cv.get_feature_names()).sum().sort_values(ascending=False)\n",
    "        ).rename(columns={0:'count'})\n",
    "    if norm:\n",
    "        gram['norm'] = gram['count'].map(lambda x: x/len(tweets))\n",
    "    return gram"
   ]
  },
  {
   "cell_type": "code",
   "execution_count": 14,
   "metadata": {
    "collapsed": true
   },
   "outputs": [],
   "source": [
    "def vec_day_top_n(n=25, start=False, end=False, data=df2, n_grams=(1,1), pro='stem', norm=False, binary=False):\n",
    "    d_i = data.set_index('day')\n",
    "#     if not start:\n",
    "#         start = d_i.index.min()\n",
    "#     if not end:\n",
    "#         end = d_i.index.max()\n",
    "    df = pd.DataFrame()\n",
    "    for d in d_i.index.unique():\n",
    "        if d[-1] == '1':\n",
    "            clear_output()\n",
    "        gram = span_vec_day(day=d, data=data, n_grams=n_grams, norm=norm, pro=pro, binary=binary)\n",
    "        df_gram = pd.DataFrame(gram).reset_index().rename(columns={'index':'word',0:'count'}).iloc[0:n,:]\n",
    "        df_gram['date'] = d\n",
    "        df = pd.concat([df, df_gram])\n",
    "        print(d) \n",
    "    return df.sort_values('date').reset_index(drop=True)"
   ]
  },
  {
   "cell_type": "code",
   "execution_count": 15,
   "metadata": {},
   "outputs": [
    {
     "data": {
      "text/plain": [
       "Index(['2018-08-01', '2018-08-01', '2018-08-01', '2018-08-01', '2018-08-01',\n",
       "       '2018-08-01', '2018-08-01', '2018-08-01', '2018-08-01', '2018-08-01',\n",
       "       ...\n",
       "       '2017-01-05', '2017-01-05', '2017-01-05', '2017-01-05', '2017-01-05',\n",
       "       '2017-01-05', '2017-01-05', '2017-01-05', '2017-01-05', '2017-01-05'],\n",
       "      dtype='object', name='day', length=149072)"
      ]
     },
     "execution_count": 15,
     "metadata": {},
     "output_type": "execute_result"
    }
   ],
   "source": [
    "df2i.index"
   ]
  },
  {
   "cell_type": "code",
   "execution_count": 16,
   "metadata": {
    "collapsed": true
   },
   "outputs": [],
   "source": [
    "d_range = pd.date_range('2017-01-01', periods=574, freq='D')"
   ]
  },
  {
   "cell_type": "code",
   "execution_count": 39,
   "metadata": {
    "collapsed": true
   },
   "outputs": [],
   "source": [
    "day_by_sig = df2[['day','sig','tweet_clean']].groupby(['day','sig']).count()"
   ]
  },
  {
   "cell_type": "code",
   "execution_count": 40,
   "metadata": {
    "collapsed": true
   },
   "outputs": [],
   "source": [
    "sig_clean = {'^JG':['^JG','^Jg', '^JG\\\\', '^jG'],\n",
    "'^JP':['^JP','^JP.', '^JP^J', '^JJP', '^^JP'],\n",
    "'^BD':['^BD', '^BDht','^BDpi', '^B', '^BD^B'],\n",
    "'^KF':['^KF', '^KFht', 'KFpi'],\n",
    "'^GES':['^GES', '^GSht', '^GES\"', '^G.S.', '^G..S', '^G.', '^GES:', '^G.S,', '^G.S>', '^^GS', '^G,S.'],\n",
    "'^DG':['^DG', '^DGq', '^Dg', '^DGG', '^DG.'],\n",
    "'^JZ':['^JZ','^JZZ', '^Z'],\n",
    "'^HKD':['^HKD'],\n",
    "'^RT':['^RT', '^RT^R', '^RTht', '^rt', '^RTGO'],\n",
    "'^EE':['^EE', '^EE^E', '^EE.'],\n",
    "'^JH':['^JH'],\n",
    "'^SL':['^SL','^SL\"'],\n",
    "'^JV':['^JV','^JVht'],\n",
    "'^TCB':['^TCB'],\n",
    "'^DM':['^DM','^DMpi', '^^DM'],\n",
    "'^JL':['^JL', '^JL\"', '^JLpi', '^Jl'],\n",
    "'^CB':['^CB', '^Cb', '^Cb\"'],\n",
    "'^MB':['^MB'],\n",
    "'^TB':['^TB', '^TBJ', 'TCB.', '^TB^T', '^tb'],\n",
    "'^DP':['^DP', '^DP:'],\n",
    "'^AM':['^AM', '^Am'],\n",
    "'^IR':['^IR'],\n",
    "'^JF':['^JF'],\n",
    "'^TBJ':['^TBJ', '^TBJ.'],\n",
    "'^NOC':['^NOC'],\n",
    "'^MW':['^MW','^MWht', '^MWpi'],\n",
    "'^DJP':['^DJP'],\n",
    "'^ML':['^ML', 'MLpi'],\n",
    "'^PI':['^PI', '^PI.'],\n",
    "'^ABht':['ABht'],\n",
    "'None':[None]}"
   ]
  },
  {
   "cell_type": "code",
   "execution_count": 41,
   "metadata": {
    "collapsed": true
   },
   "outputs": [],
   "source": [
    "sigs = ['^JG', '^JP', '^BD', '^KF', '^GES', '^DG', '^JZ', '^HKD', '^RT', '^EE', '^JH', '^SL', '^JV', '^TCB', '^DM', '^JL', '^CB', '^MB', '^TB', '^DP', '^AM', '^IR', '^JF', '^TBJ', '^NOC', '^MW', '^DJP', '^ML', '^PI', '^ABht']"
   ]
  },
  {
   "cell_type": "code",
   "execution_count": 42,
   "metadata": {
    "collapsed": true
   },
   "outputs": [],
   "source": [
    "sig_ref = {}\n",
    "for k, v in sig_clean.items():\n",
    "    for i in v:\n",
    "        sig_ref[i] = k"
   ]
  },
  {
   "cell_type": "code",
   "execution_count": 43,
   "metadata": {},
   "outputs": [
    {
     "name": "stderr",
     "output_type": "stream",
     "text": [
      "/anaconda3/lib/python3.6/site-packages/ipykernel/__main__.py:1: SettingWithCopyWarning: \n",
      "A value is trying to be set on a copy of a slice from a DataFrame.\n",
      "Try using .loc[row_indexer,col_indexer] = value instead\n",
      "\n",
      "See the caveats in the documentation: http://pandas.pydata.org/pandas-docs/stable/indexing.html#indexing-view-versus-copy\n",
      "  if __name__ == '__main__':\n"
     ]
    }
   ],
   "source": [
    "df2['sig_clean'] = df2['sig'].map(lambda x: sig_ref[x] if x in sig_ref.keys() else x)"
   ]
  },
  {
   "cell_type": "code",
   "execution_count": 44,
   "metadata": {},
   "outputs": [
    {
     "data": {
      "text/plain": [
       "array(['^JZ', '^CB', nan, '^DJP', '^BD', '^KF', '^JV', '^DM', '^SL', '^JP',\n",
       "       '^TBJ', '^AM', '^RT', '^GES', '^RT\"', '^EE', '^JVpi', '^JG', '^HKD',\n",
       "       '^MW', '^BD\"', '^JL', '^GS', '^DG', '^ML', '^Jt', '^TBJ\"', '^IR',\n",
       "       '^GS.', '^MLpi', '^AS', '^DP', '^KFpi', '^PI', '^JG\"', '^BJ',\n",
       "       '^JV.', '^KF\"', '^MW\"', '^HKD\"', '^DGpi', '^HKDp', '^MB', '^PRS',\n",
       "       '^JP\"', '^CB`', '^GJ', '^NOC', '^SM', '^AB', '^ABht', '^MB\"',\n",
       "       '^RTpi', '^TB', '^CBH', '^xx', '^RTGo', '^^JV', '^WF', '^Mhtt',\n",
       "       '^NOC\"', '^xx^D', '^R', '^TB\"', '^JR', '^KF(1', '^DP.', '^JF',\n",
       "       '^GS\"', '^CB\"', '^UG', '^TCB', '^Rt', '^ER', '^DG\"', '^G.S', '^JH',\n",
       "       '^DGF', '^SK', '^Dp', '^G.s.', '^ges', '^Sl', '^G.S/', '^NO',\n",
       "       '^TCB.', '^G', '^1703', '^P', '^SP', '^http', '^TCB,'], dtype=object)"
      ]
     },
     "execution_count": 44,
     "metadata": {},
     "output_type": "execute_result"
    }
   ],
   "source": [
    "df2.sig_clean.unique()"
   ]
  },
  {
   "cell_type": "code",
   "execution_count": 45,
   "metadata": {
    "collapsed": true
   },
   "outputs": [],
   "source": [
    "sig_clean = {'^JG':['^JG','^Jg', '^JG\\\\', '^jG', '^JG\"'],\n",
    "'^JP':['^JP','^JP.', '^JP^J', '^JJP', '^^JP', '^JP\"'],\n",
    "'^BD':['^BD', '^BDht','^BDpi', '^B', '^BD^B', '^BD\"'],\n",
    "'^KF':['^KF', '^KFht', '^KFpi', '^KF\"','^KF(1'],\n",
    "'^GES':['^GES', '^GSht', '^GES\"', '^G.S.', '^G..S', '^G.', '^GES:', '^G.S,', '^G.S>', '^^GS', \n",
    "        '^G,S.','^GS.','^GS\"', '^G.S', '^G.s.', '^ges', '^G.S/', '^G', '^GS'],\n",
    "'^DG':['^DG', '^DGq', '^Dg', '^DGG', '^DG.', '^DGpi','^DG\"','^DGF'],\n",
    "'^JZ':['^JZ','^JZZ', '^Z'],\n",
    "'^HKD':['^HKD', '^HKD\"', '^HKDp'],\n",
    "'^RT':['^RT', '^RT^R', '^RTht', '^rt', '^RTGO', '^RTpi', '^RT\"', '^Rt', '^RTGo'],\n",
    "'^EE':['^EE', '^EE^E', '^EE.'],\n",
    "'^JH':['^JH'],\n",
    "'^SL':['^SL','^SL\"', '^Sl'],\n",
    "'^JV':['^JV','^JVht', '^JVpi', '^JV.', '^^JV'],\n",
    "'^TCB':['^TCB', '^TCB.', '^TCB,'],\n",
    "'^DM':['^DM','^DMpi', '^^DM'],\n",
    "'^JL':['^JL', '^JL\"', '^JLpi', '^Jl'],\n",
    "'^CB':['^CB', '^Cb', '^Cb\"', '^CB`','^CB\"', '^CBH'],\n",
    "'^MB':['^MB', '^MB\"'],\n",
    "'^TB':['^TB', '^TBJ', 'TCB.', '^TB^T', '^tb','^TB\"'],\n",
    "'^DP':['^DP', '^DP:','^DP.','^Dp'],\n",
    "'^AM':['^AM', '^Am'],\n",
    "'^IR':['^IR'],\n",
    "'^JF':['^JF'],\n",
    "'^TBJ':['^TBJ', '^TBJ.'],\n",
    "'^NOC':['^NOC','^NOC\"'],\n",
    "'^MW':['^MW','^MWht', '^MWpi', '^MW\"'],\n",
    "'^DJP':['^DJP'],\n",
    "'^ML':['^ML', '^MLpi'],\n",
    "'^PI':['^PI', '^PI.', '^P'],\n",
    "'^AB':['^AB','^ABht'],\n",
    "'None':[None, 'nan','^xx^D','^R', '^1703', '^http', '^xx', '^Mhtt', '^Jt']}"
   ]
  },
  {
   "cell_type": "code",
   "execution_count": 46,
   "metadata": {
    "collapsed": true
   },
   "outputs": [],
   "source": [
    "sig_ref = {}\n",
    "for k, v in sig_clean.items():\n",
    "    for i in v:\n",
    "        sig_ref[i] = k"
   ]
  },
  {
   "cell_type": "code",
   "execution_count": 47,
   "metadata": {},
   "outputs": [
    {
     "name": "stderr",
     "output_type": "stream",
     "text": [
      "/anaconda3/lib/python3.6/site-packages/ipykernel/__main__.py:1: SettingWithCopyWarning: \n",
      "A value is trying to be set on a copy of a slice from a DataFrame.\n",
      "Try using .loc[row_indexer,col_indexer] = value instead\n",
      "\n",
      "See the caveats in the documentation: http://pandas.pydata.org/pandas-docs/stable/indexing.html#indexing-view-versus-copy\n",
      "  if __name__ == '__main__':\n"
     ]
    }
   ],
   "source": [
    "df2['sig_clean'] = df2['sig'].map(lambda x: sig_ref[x] if x in sig_ref.keys() else x)"
   ]
  },
  {
   "cell_type": "code",
   "execution_count": 48,
   "metadata": {},
   "outputs": [
    {
     "data": {
      "text/plain": [
       "array(['^JZ', '^CB', nan, '^DJP', '^BD', '^KF', '^JV', '^DM', '^SL', '^JP',\n",
       "       '^TBJ', '^AM', '^RT', '^GES', '^EE', '^JG', '^HKD', '^MW', '^JL',\n",
       "       '^DG', '^ML', 'None', '^TBJ\"', '^IR', '^AS', '^DP', '^PI', '^BJ',\n",
       "       '^MB', '^PRS', '^GJ', '^NOC', '^SM', '^AB', '^TB', '^WF', '^JR',\n",
       "       '^JF', '^UG', '^TCB', '^ER', '^JH', '^SK', '^NO', '^SP'], dtype=object)"
      ]
     },
     "execution_count": 48,
     "metadata": {},
     "output_type": "execute_result"
    }
   ],
   "source": [
    "df2.sig_clean.unique()"
   ]
  },
  {
   "cell_type": "code",
   "execution_count": 49,
   "metadata": {
    "collapsed": true
   },
   "outputs": [],
   "source": [
    "day_by_sig = df2[['day','sig_clean','tweet_clean']].groupby(['day','sig_clean']).count()"
   ]
  },
  {
   "cell_type": "code",
   "execution_count": 50,
   "metadata": {
    "collapsed": true
   },
   "outputs": [],
   "source": [
    "day_by_sig = day_by_sig.reset_index().rename(columns={'sig_clean':'sig', 'tweet_clean':'count'})"
   ]
  },
  {
   "cell_type": "code",
   "execution_count": 55,
   "metadata": {},
   "outputs": [
    {
     "data": {
      "text/html": [
       "<div>\n",
       "<style>\n",
       "    .dataframe thead tr:only-child th {\n",
       "        text-align: right;\n",
       "    }\n",
       "\n",
       "    .dataframe thead th {\n",
       "        text-align: left;\n",
       "    }\n",
       "\n",
       "    .dataframe tbody tr th {\n",
       "        vertical-align: top;\n",
       "    }\n",
       "</style>\n",
       "<table border=\"1\" class=\"dataframe\">\n",
       "  <thead>\n",
       "    <tr style=\"text-align: right;\">\n",
       "      <th></th>\n",
       "      <th>day</th>\n",
       "      <th>sig</th>\n",
       "      <th>count</th>\n",
       "    </tr>\n",
       "  </thead>\n",
       "  <tbody>\n",
       "    <tr>\n",
       "      <th>0</th>\n",
       "      <td>2017-01-05</td>\n",
       "      <td>^DG</td>\n",
       "      <td>17</td>\n",
       "    </tr>\n",
       "    <tr>\n",
       "      <th>1</th>\n",
       "      <td>2017-01-05</td>\n",
       "      <td>^JP</td>\n",
       "      <td>17</td>\n",
       "    </tr>\n",
       "    <tr>\n",
       "      <th>2</th>\n",
       "      <td>2017-01-06</td>\n",
       "      <td>^BD</td>\n",
       "      <td>22</td>\n",
       "    </tr>\n",
       "    <tr>\n",
       "      <th>3</th>\n",
       "      <td>2017-01-06</td>\n",
       "      <td>^JG</td>\n",
       "      <td>19</td>\n",
       "    </tr>\n",
       "    <tr>\n",
       "      <th>4</th>\n",
       "      <td>2017-01-06</td>\n",
       "      <td>^JH</td>\n",
       "      <td>12</td>\n",
       "    </tr>\n",
       "  </tbody>\n",
       "</table>\n",
       "</div>"
      ],
      "text/plain": [
       "          day  sig  count\n",
       "0  2017-01-05  ^DG     17\n",
       "1  2017-01-05  ^JP     17\n",
       "2  2017-01-06  ^BD     22\n",
       "3  2017-01-06  ^JG     19\n",
       "4  2017-01-06  ^JH     12"
      ]
     },
     "execution_count": 55,
     "metadata": {},
     "output_type": "execute_result"
    }
   ],
   "source": [
    "day_by_sig.head()"
   ]
  },
  {
   "cell_type": "code",
   "execution_count": 1,
   "metadata": {
    "scrolled": false
   },
   "outputs": [
    {
     "ename": "NameError",
     "evalue": "name 'day_by_sig' is not defined",
     "output_type": "error",
     "traceback": [
      "\u001b[0;31m---------------------------------------------------------------------------\u001b[0m",
      "\u001b[0;31mNameError\u001b[0m                                 Traceback (most recent call last)",
      "\u001b[0;32m<ipython-input-1-4f2122831403>\u001b[0m in \u001b[0;36m<module>\u001b[0;34m()\u001b[0m\n\u001b[0;32m----> 1\u001b[0;31m \u001b[0mdata\u001b[0m \u001b[0;34m=\u001b[0m \u001b[0mday_by_sig\u001b[0m\u001b[0;34m\u001b[0m\u001b[0m\n\u001b[0m\u001b[1;32m      2\u001b[0m \u001b[0;34m\u001b[0m\u001b[0m\n\u001b[1;32m      3\u001b[0m \u001b[0mplt\u001b[0m\u001b[0;34m.\u001b[0m\u001b[0mfigure\u001b[0m\u001b[0;34m(\u001b[0m\u001b[0mfigsize\u001b[0m\u001b[0;34m=\u001b[0m\u001b[0;34m(\u001b[0m\u001b[0;36m15\u001b[0m\u001b[0;34m,\u001b[0m\u001b[0;36m10\u001b[0m\u001b[0;34m)\u001b[0m\u001b[0;34m)\u001b[0m\u001b[0;34m\u001b[0m\u001b[0m\n\u001b[1;32m      4\u001b[0m plt.subplots_adjust(left=None, bottom=None, right=None, top=3,\n\u001b[1;32m      5\u001b[0m                 wspace=None, hspace=None)\n",
      "\u001b[0;31mNameError\u001b[0m: name 'day_by_sig' is not defined"
     ]
    }
   ],
   "source": [
    "data = day_by_sig\n",
    "\n",
    "plt.figure(figsize=(15,10))\n",
    "plt.subplots_adjust(left=None, bottom=None, right=None, top=3,\n",
    "                wspace=None, hspace=None)\n",
    "auth = ['^JG', '^JP', '^BD', '^KF', '^GES', '^DG', '^JZ', '^HKD', '^RT', '^EE']\n",
    "\n",
    "dates = data.loc[:,'day'].unique()\n",
    "# if fig:\n",
    "#     fig = plt.figure(figsize=(15,7))\n",
    "p = 1\n",
    "\n",
    "for a in auth:\n",
    "    plt.subplot(5,2,p)\n",
    "    plt.title(f'tweets by {a[1:]} x time')\n",
    "    d = data[data['sig'] == a].sort_values('day')\n",
    "    counts = {'date':[], 'count':[]}\n",
    "    for d1 in dates:\n",
    "        counts['date'].append(d1)\n",
    "        if d.loc[:,'day'].str.contains(d1).sum() > 0:\n",
    "            counts['count'].append(d[d['day'] == d1]['count'].values[0])\n",
    "        else:\n",
    "            counts['count'].append(0)\n",
    "    plot_df = pd.DataFrame(counts).reset_index()\n",
    "    sns.regplot(\n",
    "        data=plot_df, x='index', y='count', scatter_kws=({'alpha':0.5, 'color':'orange'}))\n",
    "    p += 1\n",
    "# if line:\n",
    "#     plt.axvline(x=line, linestyle=':')"
   ]
  },
  {
   "cell_type": "code",
   "execution_count": null,
   "metadata": {
    "collapsed": true
   },
   "outputs": [],
   "source": []
  }
 ],
 "metadata": {
  "kernelspec": {
   "display_name": "Python [conda env:anaconda3]",
   "language": "python",
   "name": "conda-env-anaconda3-py"
  },
  "language_info": {
   "codemirror_mode": {
    "name": "ipython",
    "version": 3
   },
   "file_extension": ".py",
   "mimetype": "text/x-python",
   "name": "python",
   "nbconvert_exporter": "python",
   "pygments_lexer": "ipython3",
   "version": "3.6.3"
  }
 },
 "nbformat": 4,
 "nbformat_minor": 2
}
