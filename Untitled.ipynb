{
 "cells": [
  {
   "cell_type": "code",
   "execution_count": 2,
   "metadata": {},
   "outputs": [],
   "source": [
    "import pandas as pd\n",
    "import numpy as np\n",
    "import os\n",
    "import re\n",
    "import datetime as dt\n",
    "from sklearn.feature_extraction.text import CountVectorizer, TfidfVectorizer\n",
    "import nltk\n",
    "from nltk.stem.porter import PorterStemmer\n",
    "from nltk.stem import WordNetLemmatizer\n",
    "from textblob import TextBlob\n",
    "\n",
    "import calendar\n",
    "\n",
    "from IPython.display import clear_output\n",
    "import matplotlib.pyplot as plt\n",
    "import matplotlib.dates as pld\n",
    "import seaborn as sns\n",
    "%matplotlib inline"
   ]
  },
  {
   "cell_type": "code",
   "execution_count": 3,
   "metadata": {
    "collapsed": true
   },
   "outputs": [],
   "source": [
    "df = pd.read_csv('more_tweets_plus.csv')\n",
    "df2 = df[df.tweet_clean.notnull()]"
   ]
  },
  {
   "cell_type": "code",
   "execution_count": 6,
   "metadata": {},
   "outputs": [
    {
     "data": {
      "text/plain": [
       "array(['^JZ', '^CB', nan, '^DJP', '^BD', '^KF', '^JV', '^DM', '^SL', '^JP',\n",
       "       '^KFht', '^TBJ', '^SL\"', '^AM', '^RT', '^GES', '^RT\"', '^EE',\n",
       "       '^JVpi', '^BDht', '^JG', '^HKD', '^MW', '^BD\"', '^JL', '^GSht',\n",
       "       '^MWht', '^GS', '^JP.', '^DG', '^ML', '^GES\"', '^JVht', '^Jt',\n",
       "       '^JL\"', '^DMpi', '^Jg', '^JZZ', '^TBJ\"', '^BDpi', '^IR', '^G.S.',\n",
       "       '^GS.', '^RTht', '^MLpi', '^AS', '^DP', '^KFpi', '^PI', '^JG\"',\n",
       "       '^JG\\\\', '^BJ', '^B', '^JV.', '^MWpi', '^TBJ.', '^KF\"', '^MW\"',\n",
       "       '^JLpi', '^RT^R', '^HKD\"', '^DGpi', '^HKDp', '^MB', '^PRS', '^JP\"',\n",
       "       '^CB`', '^GJ', '^NOC', '^SM', '^AB', '^ABht', '^MB\"', '^^DM',\n",
       "       '^RTpi', '^TB', '^CBH', '^xx', '^RTGo', '^EE^E', '^Z', '^^JV',\n",
       "       '^WF', '^Mhtt', '^NOC\"', '^xx^D', '^Jl', '^GES:', '^R', '^TB\"',\n",
       "       '^EE.', '^JP^J', '^JR', '^Cb', '^Cb\"', '^KF(1', '^DP.', '^JF',\n",
       "       '^^JP', '^BD^B', '^GS\"', '^CB\"', '^UG', '^TCB', '^Rt', '^ER', '^rt',\n",
       "       '^^GS', '^DG\"', '^G.S', '^JH', '^DGF', '^G.S,', '^G.S>', '^SK',\n",
       "       '^Dp', '^G.s.', '^Dg', '^ges', '^Sl', '^G.S/', '^NO', '^PI.',\n",
       "       '^G..S', '^TCB.', '^JJP', '^G', '^Am', '^G,S.', '^1703', '^jG',\n",
       "       '^G.', '^P', '^TB^T', '^SP', '^tb', '^http', '^DGG', '^DP:', '^DG.',\n",
       "       '^TCB,', '^DGq'], dtype=object)"
      ]
     },
     "execution_count": 6,
     "metadata": {},
     "output_type": "execute_result"
    }
   ],
   "source": [
    "df2.sig.unique()"
   ]
  },
  {
   "cell_type": "code",
   "execution_count": 10,
   "metadata": {},
   "outputs": [
    {
     "data": {
      "text/plain": [
       "['Good',\n",
       " 'Evening.',\n",
       " 'We',\n",
       " 'are',\n",
       " 'working',\n",
       " 'to',\n",
       " 'address',\n",
       " 'these',\n",
       " 'issues',\n",
       " 'at',\n",
       " 'this',\n",
       " 'time.',\n",
       " 'Please',\n",
       " 'see',\n",
       " 'https://twitter.com/NYCTSubway/status/1024289892073922561',\n",
       " '‚Ä¶',\n",
       " 'for',\n",
       " 'additional',\n",
       " 'information.',\n",
       " '^JZ']"
      ]
     },
     "execution_count": 10,
     "metadata": {},
     "output_type": "execute_result"
    }
   ],
   "source": [
    "df.loc[0,'text'].split()"
   ]
  },
  {
   "cell_type": "code",
   "execution_count": null,
   "metadata": {
    "collapsed": true
   },
   "outputs": [],
   "source": [
    "df.text.map(lambda x: ' '.join([w for w in x.split() if x not in list_of_authors])"
   ]
  },
  {
   "cell_type": "code",
   "execution_count": null,
   "metadata": {
    "collapsed": true
   },
   "outputs": [],
   "source": [
    "[w for w in tweet.split() if w not in list_of_authors]"
   ]
  }
 ],
 "metadata": {
  "kernelspec": {
   "display_name": "Python [conda env:anaconda3]",
   "language": "python",
   "name": "conda-env-anaconda3-py"
  },
  "language_info": {
   "codemirror_mode": {
    "name": "ipython",
    "version": 3
   },
   "file_extension": ".py",
   "mimetype": "text/x-python",
   "name": "python",
   "nbconvert_exporter": "python",
   "pygments_lexer": "ipython3",
   "version": "3.6.3"
  }
 },
 "nbformat": 4,
 "nbformat_minor": 2
}
